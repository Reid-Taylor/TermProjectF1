{
 "cells": [
  {
   "cell_type": "code",
   "execution_count": 1,
   "metadata": {},
   "outputs": [],
   "source": [
    "import pandas as pd\n",
    "import numpy as np\n",
    "import sklearn as sk\n",
    "from sklearn.metrics import accuracy_score\n",
    "from sklearn.linear_model import LinearRegression\n",
    "from sklearn.metrics import mean_squared_error, r2_score"
   ]
  },
  {
   "cell_type": "code",
   "execution_count": 2,
   "metadata": {},
   "outputs": [],
   "source": [
    "data = pd.read_csv(\"final_with_time.csv\")"
   ]
  },
  {
   "cell_type": "code",
   "execution_count": 4,
   "metadata": {},
   "outputs": [
    {
     "data": {
      "text/plain": [
       "Index(['weather_warm', 'weather_cold', 'weather_dry', 'weather_wet',\n",
       "       'weather_cloudy', 'age', 'Win', 'podium', 'circuitId_2', 'circuitId_3',\n",
       "       'circuitId_4', 'circuitId_5', 'circuitId_6'],\n",
       "      dtype='object')"
      ]
     },
     "execution_count": 4,
     "metadata": {},
     "output_type": "execute_result"
    }
   ],
   "source": [
    "data = data[data['milliseconds'] != 0]\n",
    "data = data[data['position'] != 0]\n",
    "data.columns[7:20]"
   ]
  },
  {
   "cell_type": "code",
   "execution_count": 183,
   "metadata": {},
   "outputs": [],
   "source": [
    "x = data.drop([\"position\",\"podium\",'Win', \"milliseconds\"],axis=1)\n",
    "y = data[[\"raceId\",\"milliseconds\",\"position\"]]"
   ]
  },
  {
   "cell_type": "code",
   "execution_count": 184,
   "metadata": {},
   "outputs": [
    {
     "data": {
      "text/plain": [
       "[0.7893623451193714,\n",
       " 0.6488365064974313,\n",
       " 0.6947718343910547,\n",
       " 0.3466304019341191]"
      ]
     },
     "execution_count": 184,
     "metadata": {},
     "output_type": "execute_result"
    }
   ],
   "source": [
    "reg = LinearRegression().fit(x, y.milliseconds)\n",
    "predictions = np.argsort(reg.predict(x))\n",
    "accuracy = np.sum(predictions == y.position)/len(y)\n",
    "\n",
    "metrics(y.position, predictions)"
   ]
  },
  {
   "cell_type": "code",
   "execution_count": 173,
   "metadata": {},
   "outputs": [],
   "source": [
    "# drop rows of y if milliseconds == zero\n",
    "x = x[y['position'] != 0]\n",
    "x = x[y['milliseconds'] != 0]\n",
    "y = y[y['position'] != 0]\n",
    "y = y[y['milliseconds'] != 0]\n",
    "gY = []\n",
    "\n",
    "for group in data.groupby(\"raceId\"):\n",
    "    group[1].milliseconds = group[1].milliseconds - group[1].milliseconds.min()\n",
    "    x = group[1].drop([\"position\",\"podium\",'Win', \"milliseconds\"],axis=1)\n",
    "    y = group[1][[\"raceId\",\"milliseconds\",\"position\"]]\n",
    "    # run a linear regression\n",
    "    reg = LinearRegression().fit(x, y.milliseconds)\n",
    "    predictions = np.argsort(reg.predict(x))\n",
    "    accuracy = np.sum(predictions == y.position)/len(y)\n",
    "\n",
    "    gY.append(metrics(y.position, predictions))"
   ]
  },
  {
   "cell_type": "code",
   "execution_count": 176,
   "metadata": {},
   "outputs": [],
   "source": [
    "df = pd.DataFrame(gY)\n",
    "df.columns = [\"top3\", \"top5\", \"top10\", \"top20\"]"
   ]
  },
  {
   "cell_type": "code",
   "execution_count": 177,
   "metadata": {},
   "outputs": [
    {
     "data": {
      "text/html": [
       "<div>\n",
       "<style scoped>\n",
       "    .dataframe tbody tr th:only-of-type {\n",
       "        vertical-align: middle;\n",
       "    }\n",
       "\n",
       "    .dataframe tbody tr th {\n",
       "        vertical-align: top;\n",
       "    }\n",
       "\n",
       "    .dataframe thead th {\n",
       "        text-align: right;\n",
       "    }\n",
       "</style>\n",
       "<table border=\"1\" class=\"dataframe\">\n",
       "  <thead>\n",
       "    <tr style=\"text-align: right;\">\n",
       "      <th></th>\n",
       "      <th>top3</th>\n",
       "      <th>top5</th>\n",
       "      <th>top10</th>\n",
       "      <th>top20</th>\n",
       "    </tr>\n",
       "  </thead>\n",
       "  <tbody>\n",
       "    <tr>\n",
       "      <th>0</th>\n",
       "      <td>0.500000</td>\n",
       "      <td>0.357143</td>\n",
       "      <td>0.357143</td>\n",
       "      <td>0.428571</td>\n",
       "    </tr>\n",
       "    <tr>\n",
       "      <th>1</th>\n",
       "      <td>0.687500</td>\n",
       "      <td>0.687500</td>\n",
       "      <td>0.437500</td>\n",
       "      <td>0.500000</td>\n",
       "    </tr>\n",
       "    <tr>\n",
       "      <th>2</th>\n",
       "      <td>0.800000</td>\n",
       "      <td>0.533333</td>\n",
       "      <td>0.466667</td>\n",
       "      <td>0.266667</td>\n",
       "    </tr>\n",
       "    <tr>\n",
       "      <th>3</th>\n",
       "      <td>0.823529</td>\n",
       "      <td>0.764706</td>\n",
       "      <td>0.411765</td>\n",
       "      <td>0.294118</td>\n",
       "    </tr>\n",
       "    <tr>\n",
       "      <th>4</th>\n",
       "      <td>0.615385</td>\n",
       "      <td>0.461538</td>\n",
       "      <td>0.307692</td>\n",
       "      <td>0.538462</td>\n",
       "    </tr>\n",
       "    <tr>\n",
       "      <th>...</th>\n",
       "      <td>...</td>\n",
       "      <td>...</td>\n",
       "      <td>...</td>\n",
       "      <td>...</td>\n",
       "    </tr>\n",
       "    <tr>\n",
       "      <th>380</th>\n",
       "      <td>0.000000</td>\n",
       "      <td>0.000000</td>\n",
       "      <td>0.500000</td>\n",
       "      <td>0.500000</td>\n",
       "    </tr>\n",
       "    <tr>\n",
       "      <th>381</th>\n",
       "      <td>0.000000</td>\n",
       "      <td>0.000000</td>\n",
       "      <td>0.000000</td>\n",
       "      <td>1.000000</td>\n",
       "    </tr>\n",
       "    <tr>\n",
       "      <th>382</th>\n",
       "      <td>0.000000</td>\n",
       "      <td>0.000000</td>\n",
       "      <td>0.000000</td>\n",
       "      <td>1.000000</td>\n",
       "    </tr>\n",
       "    <tr>\n",
       "      <th>383</th>\n",
       "      <td>0.000000</td>\n",
       "      <td>0.000000</td>\n",
       "      <td>0.000000</td>\n",
       "      <td>1.000000</td>\n",
       "    </tr>\n",
       "    <tr>\n",
       "      <th>384</th>\n",
       "      <td>0.000000</td>\n",
       "      <td>0.000000</td>\n",
       "      <td>1.000000</td>\n",
       "      <td>0.000000</td>\n",
       "    </tr>\n",
       "  </tbody>\n",
       "</table>\n",
       "<p>385 rows × 4 columns</p>\n",
       "</div>"
      ],
      "text/plain": [
       "         top3      top5     top10     top20\n",
       "0    0.500000  0.357143  0.357143  0.428571\n",
       "1    0.687500  0.687500  0.437500  0.500000\n",
       "2    0.800000  0.533333  0.466667  0.266667\n",
       "3    0.823529  0.764706  0.411765  0.294118\n",
       "4    0.615385  0.461538  0.307692  0.538462\n",
       "..        ...       ...       ...       ...\n",
       "380  0.000000  0.000000  0.500000  0.500000\n",
       "381  0.000000  0.000000  0.000000  1.000000\n",
       "382  0.000000  0.000000  0.000000  1.000000\n",
       "383  0.000000  0.000000  0.000000  1.000000\n",
       "384  0.000000  0.000000  1.000000  0.000000\n",
       "\n",
       "[385 rows x 4 columns]"
      ]
     },
     "execution_count": 177,
     "metadata": {},
     "output_type": "execute_result"
    }
   ],
   "source": [
    "df"
   ]
  },
  {
   "cell_type": "code",
   "execution_count": 181,
   "metadata": {},
   "outputs": [
    {
     "data": {
      "text/plain": [
       "top3     0.615385\n",
       "top5     0.562500\n",
       "top10    0.600000\n",
       "top20    0.666667\n",
       "dtype: float64"
      ]
     },
     "execution_count": 181,
     "metadata": {},
     "output_type": "execute_result"
    }
   ],
   "source": [
    "df.median(axis=0)"
   ]
  },
  {
   "cell_type": "code",
   "execution_count": 179,
   "metadata": {},
   "outputs": [
    {
     "data": {
      "text/plain": [
       "top3     0.514451\n",
       "top5     0.505532\n",
       "top10    0.611087\n",
       "top20    0.652499\n",
       "dtype: float64"
      ]
     },
     "execution_count": 179,
     "metadata": {},
     "output_type": "execute_result"
    }
   ],
   "source": [
    "df.mean(axis=0)"
   ]
  },
  {
   "cell_type": "code",
   "execution_count": 182,
   "metadata": {},
   "outputs": [
    {
     "data": {
      "text/html": [
       "<div>\n",
       "<style scoped>\n",
       "    .dataframe tbody tr th:only-of-type {\n",
       "        vertical-align: middle;\n",
       "    }\n",
       "\n",
       "    .dataframe tbody tr th {\n",
       "        vertical-align: top;\n",
       "    }\n",
       "\n",
       "    .dataframe thead th {\n",
       "        text-align: right;\n",
       "    }\n",
       "</style>\n",
       "<table border=\"1\" class=\"dataframe\">\n",
       "  <thead>\n",
       "    <tr style=\"text-align: right;\">\n",
       "      <th></th>\n",
       "      <th>top3</th>\n",
       "      <th>top5</th>\n",
       "      <th>top10</th>\n",
       "      <th>top20</th>\n",
       "    </tr>\n",
       "  </thead>\n",
       "  <tbody>\n",
       "    <tr>\n",
       "      <th>0</th>\n",
       "      <td>0.0</td>\n",
       "      <td>0.0</td>\n",
       "      <td>1.0</td>\n",
       "      <td>1.0</td>\n",
       "    </tr>\n",
       "  </tbody>\n",
       "</table>\n",
       "</div>"
      ],
      "text/plain": [
       "   top3  top5  top10  top20\n",
       "0   0.0   0.0    1.0    1.0"
      ]
     },
     "execution_count": 182,
     "metadata": {},
     "output_type": "execute_result"
    }
   ],
   "source": [
    "df.mode(axis=0)"
   ]
  },
  {
   "cell_type": "markdown",
   "metadata": {},
   "source": [
    "# Hamza metrics"
   ]
  },
  {
   "cell_type": "code",
   "execution_count": 154,
   "metadata": {},
   "outputs": [],
   "source": [
    "def metric_top3(y_true, y_pred):\n",
    "    y_true = list(y_true)\n",
    "    top3_true = []\n",
    "    top3_pred = []\n",
    "    for i in range(len(y_pred)):\n",
    "        if y_true[i] <= 3:\n",
    "            top3_true.append(1)\n",
    "        else:\n",
    "            top3_true.append(0)\n",
    "        if y_pred[i] <= 3:\n",
    "            top3_pred.append(1)\n",
    "        else:\n",
    "            top3_pred.append(0)\n",
    "    \n",
    "    return top3_true, top3_pred, accuracy_score(top3_true, top3_pred)"
   ]
  },
  {
   "cell_type": "code",
   "execution_count": 155,
   "metadata": {},
   "outputs": [],
   "source": [
    "def metric_top5(y_true, y_pred):\n",
    "    y_true = list(y_true)\n",
    "    top_true = []\n",
    "    top_pred = []\n",
    "    for i in range(len(y_pred)):\n",
    "        if y_true[i] <= 5:\n",
    "            top_true.append(1)\n",
    "        else:\n",
    "            top_true.append(0)\n",
    "        if y_pred[i] <= 5:\n",
    "            top_pred.append(1)\n",
    "        else:\n",
    "            top_pred.append(0)\n",
    "    \n",
    "    return top_true, top_pred, accuracy_score(top_true, top_pred)"
   ]
  },
  {
   "cell_type": "code",
   "execution_count": 156,
   "metadata": {},
   "outputs": [],
   "source": [
    "def metric_top6_10(y_true, y_pred):\n",
    "    y_true = list(y_true)\n",
    "    top_true = []\n",
    "    top_pred = []\n",
    "    for i in range(len(y_pred)):\n",
    "        if y_true[i] <= 10 and y_true[i] >= 6:\n",
    "            top_true.append(1)\n",
    "        else:\n",
    "            top_true.append(0)\n",
    "        if y_pred[i] <= 10 and y_pred[i] >= 6:\n",
    "            top_pred.append(1)\n",
    "        else:\n",
    "            top_pred.append(0)\n",
    "    \n",
    "    return top_true, top_pred, accuracy_score(top_true, top_pred)"
   ]
  },
  {
   "cell_type": "code",
   "execution_count": 157,
   "metadata": {},
   "outputs": [],
   "source": [
    "def metric_top10_20(y_true, y_pred):\n",
    "    y_true = list(y_true)\n",
    "    top_true = []\n",
    "    top_pred = []\n",
    "    for i in range(len(y_pred)):\n",
    "        if y_true[i] > 10:\n",
    "            top_true.append(1)\n",
    "        else:\n",
    "            top_true.append(0)\n",
    "        if y_pred[i] > 10:\n",
    "            top_pred.append(1)\n",
    "        else:\n",
    "            top_pred.append(0)\n",
    "    \n",
    "    return top_true, top_pred, accuracy_score(top_true, top_pred)"
   ]
  },
  {
   "cell_type": "code",
   "execution_count": 170,
   "metadata": {},
   "outputs": [],
   "source": [
    "def metrics(y_true, y_pred):\n",
    "    y_true = list(y_true)\n",
    "    top3_true = []\n",
    "    top5_true = []\n",
    "    top6_10_true = []\n",
    "    top10_20_true = []\n",
    "    top3_pred = []\n",
    "    top5_pred = []\n",
    "    top6_10_pred = []\n",
    "    top10_20_pred = []\n",
    "    for i in range(len(y_pred)):\n",
    "\n",
    "        if y_true[i] <= 3:\n",
    "            top3_true.append(1)\n",
    "        else:\n",
    "            top3_true.append(0)\n",
    "\n",
    "        if y_true[i] <= 5:\n",
    "            top5_true.append(1)\n",
    "        else:\n",
    "            top5_true.append(0)\n",
    "\n",
    "        if y_true[i] <= 10 and y_true[i] >= 6:\n",
    "            top6_10_true.append(1)\n",
    "        else:\n",
    "            top6_10_true.append(0)\n",
    "\n",
    "        if y_true[i] > 10:\n",
    "            top10_20_true.append(1)\n",
    "        else:\n",
    "            top10_20_true.append(0) \n",
    "\n",
    "            \n",
    "        if y_pred[i] <= 3:\n",
    "            top3_pred.append(1)\n",
    "        else:\n",
    "            top3_pred.append(0)\n",
    "\n",
    "        if y_pred[i] <= 5:\n",
    "            top5_pred.append(1)\n",
    "        else:\n",
    "            top5_pred.append(0)\n",
    "\n",
    "        if y_pred[i] <= 10 and y_pred[i] >= 6:\n",
    "            top6_10_pred.append(1)\n",
    "        else:\n",
    "            top6_10_pred.append(0)\n",
    "\n",
    "        if y_pred[i] > 10:\n",
    "            top10_20_pred.append(1)\n",
    "        else:\n",
    "            top10_20_pred.append(0)\n",
    "            \n",
    "    return [accuracy_score(top3_true, top3_pred), accuracy_score(top5_true, top5_pred), accuracy_score(top6_10_true, top6_10_pred), accuracy_score(top10_20_true, top10_20_pred)]"
   ]
  }
 ],
 "metadata": {
  "kernelspec": {
   "display_name": "Python 3.9.1 64-bit ('3.9.1')",
   "language": "python",
   "name": "python3"
  },
  "language_info": {
   "codemirror_mode": {
    "name": "ipython",
    "version": 3
   },
   "file_extension": ".py",
   "mimetype": "text/x-python",
   "name": "python",
   "nbconvert_exporter": "python",
   "pygments_lexer": "ipython3",
   "version": "3.9.1"
  },
  "orig_nbformat": 4,
  "vscode": {
   "interpreter": {
    "hash": "abd280d666bc7ac0970437e541308528dc2e63fef0779e2e8f450bcffa0699d3"
   }
  }
 },
 "nbformat": 4,
 "nbformat_minor": 2
}
